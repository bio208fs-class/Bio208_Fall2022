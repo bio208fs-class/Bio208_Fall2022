{
 "cells": [
  {
   "cell_type": "markdown",
   "metadata": {},
   "source": [
    "## Boolean modelling of a transcriptional oscillator\n",
    "\n",
    "Orlando DA, Lin CY, Bernard A, Wang JY, Socolar JE, Iversen ES, Hartemink AJ, Haase SB. Global control of cell-cycle transcription by coupled CDK and network oscillators. Nature. 2008 Jun 12;453(7197):944-7. doi: 10.1038/nature06955. Epub 2008 May 7. PubMed PMID: 18463633; PubMed Central PMCID: PMC2736871.\n",
    "\n"
   ]
  },
  {
   "cell_type": "markdown",
   "metadata": {},
   "source": [
    "## The Transcriptional Network Model of Orlando et al.\n",
    "\n",
    "![orlando-etal-network.png](https://raw.githubusercontent.com/Bio724/Bio724-Lecture-Notes/a00cdb98748145b1be32af2f97cfd6a2ba16c863/lecture-simulation-python/orlando-etal-network.png)"
   ]
  },
  {
   "cell_type": "markdown",
   "metadata": {},
   "source": [
    "## Boolean Functions used by Orlando et al.\n",
    "\n",
    "Below is the set of Boolean updatings function that Orlando et al. used.\n",
    "\n",
    "Note the following symbols are used for Boolean operations:\n",
    "\n",
    "* $\\land$ = AND\n",
    "* $\\lor$ = OR\n",
    "* $\\lnot$ = NOT\n",
    "\n",
    "\n",
    "![orlando-etal-boolfxns.png](https://raw.githubusercontent.com/Bio724/Bio724-Lecture-Notes/a00cdb98748145b1be32af2f97cfd6a2ba16c863/lecture-simulation-python/orland-etal-boolfxns.png)\n"
   ]
  },
  {
   "cell_type": "markdown",
   "metadata": {},
   "source": [
    "## Implement the Boolean Network Model of Orlando et al."
   ]
  },
  {
   "cell_type": "code",
   "execution_count": null,
   "metadata": {},
   "outputs": [],
   "source": [
    "import random\n",
    "import numpy as np\n",
    "import pandas as pd\n",
    "from matplotlib import pyplot as plt"
   ]
  },
  {
   "cell_type": "markdown",
   "metadata": {},
   "source": [
    "## In class problem 02\n",
    "\n",
    "Modify the following code block with Boolean functions that implement the Boolean logic specified in the table above.\n"
   ]
  },
  {
   "cell_type": "code",
   "execution_count": null,
   "metadata": {
    "collapsed": false,
    "jupyter": {
     "outputs_hidden": false
    }
   },
   "outputs": [],
   "source": [
    "## Based on the table above, define the functions in this code block\n",
    "\n",
    "def fMBF(cln3):\n",
    "    return # replace this code\n",
    "\n",
    "def fSBF(cln3, mbf, yox1, yhp1):\n",
    "    return # replace this code\n",
    "\n",
    "def fHCM1(mbf, sbf):\n",
    "    return # replace this code\n",
    "    \n",
    "def fYHP1(mbf, sbf):\n",
    "    return # replace this code\n",
    "    \n",
    "def fSFF(sbf, hcm1):\n",
    "    return # replace this code\n",
    "    \n",
    "def fCLN3(swi5, ace2, yox1, yhp1):\n",
    "    return # replace this code\n",
    "\n",
    "def fSWI5(sff):\n",
    "    return # replace this code\n",
    "\n",
    "def fACE2(sff):\n",
    "    return # replace this code\n",
    "\n",
    "def fYOX1(mbf, sbf):\n",
    "    return # replace this code\n"
   ]
  },
  {
   "cell_type": "markdown",
   "metadata": {},
   "source": [
    "## Pre-defined functions"
   ]
  },
  {
   "cell_type": "code",
   "execution_count": null,
   "metadata": {},
   "outputs": [],
   "source": [
    "def plot_simulation(simulation_df):\n",
    "    \"\"\"2D simulation data frame -> figure\n",
    "    \"\"\"\n",
    "    names = simulation_df.index\n",
    "    plt.imshow(simulation_df, interpolation='none', cmap='copper')\n",
    "    plt.xlabel('Time units')\n",
    "    plt.yticks(range(len(names)), names)"
   ]
  },
  {
   "cell_type": "markdown",
   "metadata": {},
   "source": [
    "## Run an instance of the simulation"
   ]
  },
  {
   "cell_type": "markdown",
   "metadata": {},
   "source": [
    "If the functions were properly defined above the following code will run the simulation for the given starting conditions.\n"
   ]
  },
  {
   "cell_type": "code",
   "execution_count": null,
   "metadata": {
    "collapsed": false,
    "jupyter": {
     "outputs_hidden": false
    }
   },
   "outputs": [],
   "source": [
    "MBF = [1]\n",
    "SBF = [1]\n",
    "YOX1 = [0]\n",
    "HCM1 = [0]\n",
    "YHP1 = [0]\n",
    "SFF = [0]\n",
    "ACE2 = [0]\n",
    "SWI5 = [0]\n",
    "CLN3 = [0]\n",
    "\n",
    "nodes = MBF, SBF, YOX1, HCM1, YHP1, SFF, ACE2, SWI5, CLN3\n",
    "names = ['MBF', 'SBF', 'YOX1', 'HCM1', 'YHP1', 'SFF', 'ACE2', 'SWI5', 'CLN3']\n",
    "\n",
    "nsteps = 20\n",
    "for i in range(nsteps):\n",
    "    mbf, sbf, yox1, hcm1, yhp1, sff, ace2, swi5, cln3 = [i[-1] for i in nodes]\n",
    "    \n",
    "    MBF.append(  fMBF(cln3) )\n",
    "    SBF.append(  fSBF(cln3, mbf, yox1, yhp1) )\n",
    "    YOX1.append( fYOX1(mbf,sbf) )\n",
    "    HCM1.append( fHCM1(mbf,sbf) )\n",
    "    YHP1.append( fYHP1(mbf,sbf) )\n",
    "    SFF.append(  fSFF(sbf, hcm1) )\n",
    "    ACE2.append( fACE2(sff) )\n",
    "    SWI5.append( fSWI5(sff) )\n",
    "    CLN3.append( fCLN3(swi5,ace2,yox1,yhp1) )\n",
    "    \n",
    "\n",
    "simulation = pd.DataFrame(data = np.array(nodes), index = names)\n",
    "plot_simulation(simulation)\n",
    "\n",
    "pass"
   ]
  },
  {
   "cell_type": "markdown",
   "metadata": {},
   "source": [
    "## In-class Problems 03\n",
    "\n",
    "A.  Orlando et al. claim that the specified Boolean network model reproduces oscillatory behaviors similar to what was seen in their experimental data.  For the given starting conditions, did you observe oscillatory behavior? [1 pt]\n",
    "\n",
    "B. Run the simulation with all nodes initially set to 1.  What behavior do you observe?  Is the \"all on\" state a fixed point attractor? [2 pts]\n",
    "\n",
    "C. Run the simulation with all nodes initially set to 0.  What behavior do you observe? Is the \"all off\" state a fixed point attractor? [2 pts]\n",
    "\n",
    "D. Try a variety of other starting conditions (~10-15 of these).  Roughly how often do you observe oscillatory behavior? [2 pts]\n",
    "\n",
    "\n"
   ]
  },
  {
   "cell_type": "markdown",
   "metadata": {},
   "source": [
    "## A wrapper function for the simulation\n",
    "\n",
    "It's convenient to wrap the core logic of the simulation into a wrapper function, as defined below.  The first argument to `cell_cycle` is a list of the initial values, corresponding to the genes in this order ` ['MBF', 'SBF', 'YOX1', 'HCM1', 'YHP1', 'SFF', 'ACE2', 'SWI5', 'CLN3']`"
   ]
  },
  {
   "cell_type": "code",
   "execution_count": null,
   "metadata": {
    "collapsed": false,
    "jupyter": {
     "outputs_hidden": false
    }
   },
   "outputs": [],
   "source": [
    "def cell_cycle(initvals, nsteps=20):\n",
    "    if len(initvals) != 9:\n",
    "        raise Exception(\"Wrong number of initial values!\")\n",
    "    \n",
    "    nodes = MBF, SBF, YOX1, HCM1, YHP1, SFF, ACE2, SWI5, CLN3 = [[i] for i in initvals]\n",
    "    for i in range(nsteps):\n",
    "        mbf, sbf, yox1, hcm1, yhp1, sff, ace2, swi5, cln3 = [i[-1] for i in nodes]\n",
    "        MBF.append(  fMBF(cln3) )\n",
    "        SBF.append(  fSBF(cln3, mbf, yox1, yhp1) )\n",
    "        YOX1.append( fYOX1(mbf,sbf) )\n",
    "        HCM1.append( fHCM1(mbf,sbf) )\n",
    "        YHP1.append( fYHP1(mbf,sbf) )\n",
    "        SFF.append(  fSFF(sbf, hcm1) )\n",
    "        ACE2.append( fACE2(sff) )\n",
    "        SWI5.append( fSWI5(sff) )\n",
    "        CLN3.append( fCLN3(swi5,ace2,yox1,yhp1) )        \n",
    "    \n",
    "    simulation = pd.DataFrame(data = np.array(nodes), index = names)\n",
    "    return simulation\n",
    "    "
   ]
  },
  {
   "cell_type": "code",
   "execution_count": null,
   "metadata": {
    "collapsed": false,
    "jupyter": {
     "outputs_hidden": false
    }
   },
   "outputs": [],
   "source": [
    "s1 = cell_cycle([1,1,0,0,0,0,0,0,0], nsteps=20)\n",
    "plot_simulation(s1)"
   ]
  }
 ],
 "metadata": {
  "kernelspec": {
   "display_name": "Python 3 (ipykernel)",
   "language": "python",
   "name": "python3"
  },
  "language_info": {
   "codemirror_mode": {
    "name": "ipython",
    "version": 3
   },
   "file_extension": ".py",
   "mimetype": "text/x-python",
   "name": "python",
   "nbconvert_exporter": "python",
   "pygments_lexer": "ipython3",
   "version": "3.10.4"
  }
 },
 "nbformat": 4,
 "nbformat_minor": 4
}
